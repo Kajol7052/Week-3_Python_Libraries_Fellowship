{
 "cells": [
  {
   "cell_type": "code",
   "execution_count": 7,
   "metadata": {},
   "outputs": [
    {
     "name": "stdout",
     "output_type": "stream",
     "text": [
      "Null vector of size 10 is:  [0. 0. 0. 0. 0. 0. 0. 0. 0. 0.]\n",
      "Update 6th value of null vector is:  [ 0.  0.  0.  0.  0. 11.  0.  0.  0.  0.]\n"
     ]
    }
   ],
   "source": [
    "import numpy as np\n",
    "\n",
    "class CreateNullVector:\n",
    "    \n",
    "    def create_null_vector_and_update_values(self):\n",
    "        \"\"\"\n",
    "        function to create a null vector of \n",
    "        size 10 and update sixth value to 11\n",
    "        \"\"\"\n",
    "        null_vector = np.zeros(10)\n",
    "        print(\"Null vector of size 10 is: \", null_vector)\n",
    "        null_vector[5] = 11\n",
    "        print(\"Update 6th value of null vector is: \", null_vector)\n",
    "\n",
    "        \n",
    "if __name__ == \"__main__\":\n",
    "    UpdateNullVector = CreateNullVector()\n",
    "    UpdateNullVector.create_null_vector_and_update_values()       "
   ]
  },
  {
   "cell_type": "code",
   "execution_count": null,
   "metadata": {},
   "outputs": [],
   "source": []
  }
 ],
 "metadata": {
  "kernelspec": {
   "display_name": "Python 3",
   "language": "python",
   "name": "python3"
  },
  "language_info": {
   "codemirror_mode": {
    "name": "ipython",
    "version": 3
   },
   "file_extension": ".py",
   "mimetype": "text/x-python",
   "name": "python",
   "nbconvert_exporter": "python",
   "pygments_lexer": "ipython3",
   "version": "3.7.6"
  }
 },
 "nbformat": 4,
 "nbformat_minor": 4
}
