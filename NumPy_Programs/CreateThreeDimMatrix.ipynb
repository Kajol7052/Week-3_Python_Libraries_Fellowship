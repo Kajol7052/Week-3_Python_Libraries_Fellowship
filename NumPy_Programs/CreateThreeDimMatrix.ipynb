{
 "cells": [
  {
   "cell_type": "code",
   "execution_count": 4,
   "metadata": {},
   "outputs": [
    {
     "name": "stdout",
     "output_type": "stream",
     "text": [
      "[[ 2  3  4]\n",
      " [ 5  6  7]\n",
      " [ 8  9 10]]\n"
     ]
    }
   ],
   "source": [
    "import numpy as np\n",
    "\n",
    "class CreateMatrix:\n",
    "    \n",
    "    def create_matrix(self):\n",
    "        \"\"\"\n",
    "        function create a 3x3 matrix \n",
    "        values ranging from 2 to 10\n",
    "        \"\"\"\n",
    "        matrix =  np.arange(2, 11).reshape(3,3)\n",
    "        print(matrix)\n",
    "        \n",
    "if __name__ == \"__main__\":\n",
    "    MatrixCreation = CreateMatrix()\n",
    "    MatrixCreation.create_matrix()"
   ]
  },
  {
   "cell_type": "code",
   "execution_count": null,
   "metadata": {},
   "outputs": [],
   "source": []
  }
 ],
 "metadata": {
  "kernelspec": {
   "display_name": "Python 3",
   "language": "python",
   "name": "python3"
  },
  "language_info": {
   "codemirror_mode": {
    "name": "ipython",
    "version": 3
   },
   "file_extension": ".py",
   "mimetype": "text/x-python",
   "name": "python",
   "nbconvert_exporter": "python",
   "pygments_lexer": "ipython3",
   "version": "3.7.6"
  }
 },
 "nbformat": 4,
 "nbformat_minor": 4
}
