{
 "cells": [
  {
   "cell_type": "code",
   "execution_count": 3,
   "metadata": {},
   "outputs": [
    {
     "name": "stdout",
     "output_type": "stream",
     "text": [
      "After concatenating 2 arrays is :\n",
      " [[ 0  1  3  0  2  4]\n",
      " [ 5  7  9  6  8 10]]\n"
     ]
    }
   ],
   "source": [
    "import numpy as np \n",
    "  \n",
    "class Concatenate:\n",
    "    \n",
    "    def concatenate_two_arrays(self):\n",
    "        \"\"\"\n",
    "        function to concatenate two 2-dimensional arrays\n",
    "        \"\"\"\n",
    "        my_array1 = np.array([[0, 1, 3], [5, 7, 9]])\n",
    "        my_array2 = np.array([[0, 2, 4], [6, 8, 10]])\n",
    "        updated = np.concatenate((my_array1, my_array2), 1) # conatenate(arrays, axis)\n",
    "        print(\"After concatenating 2 arrays is :\\n\", updated)\n",
    "        \n",
    "\n",
    "if __name__ == \"__main__\":\n",
    "    ArrayConcatenation = Concatenate()\n",
    "    ArrayConcatenation.concatenate_two_arrays()"
   ]
  },
  {
   "cell_type": "code",
   "execution_count": null,
   "metadata": {},
   "outputs": [],
   "source": []
  }
 ],
 "metadata": {
  "kernelspec": {
   "display_name": "Python 3",
   "language": "python",
   "name": "python3"
  },
  "language_info": {
   "codemirror_mode": {
    "name": "ipython",
    "version": 3
   },
   "file_extension": ".py",
   "mimetype": "text/x-python",
   "name": "python",
   "nbconvert_exporter": "python",
   "pygments_lexer": "ipython3",
   "version": "3.7.6"
  }
 },
 "nbformat": 4,
 "nbformat_minor": 4
}
