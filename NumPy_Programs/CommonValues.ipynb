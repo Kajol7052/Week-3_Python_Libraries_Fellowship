{
 "cells": [
  {
   "cell_type": "code",
   "execution_count": 9,
   "metadata": {},
   "outputs": [
    {
     "name": "stdout",
     "output_type": "stream",
     "text": [
      "Common values between two arrays : [10 40]\n"
     ]
    }
   ],
   "source": [
    "import numpy as np \n",
    "  \n",
    "class CommonValues:\n",
    "    \n",
    "    def common_element_in_two_arrays(self):\n",
    "        \"\"\"\n",
    "        function to find common values \n",
    "        between two arrays. \n",
    "        \"\"\"\n",
    "        my_array1 = np.array([0, 10, 20, 40, 60])\n",
    "        my_array2 = np.array([10, 30, 40])\n",
    "        print(\"Common values between two arrays :\", np.intersect1d(my_array1, my_array2)) # intersect1d() which will do the intersection operation and return the common values between the 2 arrays in sorted order\n",
    "        \n",
    "        \n",
    "if __name__ == \"__main__\":\n",
    "    ArrayCommon = CommonValues()\n",
    "    ArrayCommon.common_element_in_two_arrays()"
   ]
  },
  {
   "cell_type": "code",
   "execution_count": null,
   "metadata": {},
   "outputs": [],
   "source": []
  }
 ],
 "metadata": {
  "kernelspec": {
   "display_name": "Python 3",
   "language": "python",
   "name": "python3"
  },
  "language_info": {
   "codemirror_mode": {
    "name": "ipython",
    "version": 3
   },
   "file_extension": ".py",
   "mimetype": "text/x-python",
   "name": "python",
   "nbconvert_exporter": "python",
   "pygments_lexer": "ipython3",
   "version": "3.7.6"
  }
 },
 "nbformat": 4,
 "nbformat_minor": 4
}
