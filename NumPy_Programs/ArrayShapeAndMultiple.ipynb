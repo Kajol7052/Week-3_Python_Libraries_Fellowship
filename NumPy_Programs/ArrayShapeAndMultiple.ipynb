{
 "cells": [
  {
   "cell_type": "code",
   "execution_count": 6,
   "metadata": {},
   "outputs": [
    {
     "name": "stdout",
     "output_type": "stream",
     "text": [
      "Original array is :\n",
      " [[ 0  1  2  3]\n",
      " [ 4  5  6  7]\n",
      " [ 8  9 10 11]]\n",
      "Updated Array is :\n",
      " [[ 0  3  6  9]\n",
      " [12 15 18 21]\n",
      " [24 27 30 33]]\n"
     ]
    }
   ],
   "source": [
    "import numpy as np \n",
    "  \n",
    "class ArrayShape:\n",
    "    \n",
    "    def create_array_shape_and_multiply(self):\n",
    "        \"\"\"\n",
    "        function to create an array of (3, 4) shape, multiply \n",
    "        every element value by 3 and display the new array\n",
    "        \"\"\"\n",
    "        my_array = np.arange(12).reshape(3, 4)\n",
    "        print(\"Original array is :\\n\",my_array)\n",
    "        for a in np.nditer(my_array, op_flags=['readwrite']):\n",
    "            a[...] = 3 * a\n",
    "        print(\"Updated Array is :\\n\",my_array)\n",
    "        \n",
    "if __name__ == \"__main__\":\n",
    "    Shape = ArrayShape()\n",
    "    Shape.create_array_shape_and_multiply()\n",
    "    "
   ]
  },
  {
   "cell_type": "code",
   "execution_count": null,
   "metadata": {},
   "outputs": [],
   "source": []
  }
 ],
 "metadata": {
  "kernelspec": {
   "display_name": "Python 3",
   "language": "python",
   "name": "python3"
  },
  "language_info": {
   "codemirror_mode": {
    "name": "ipython",
    "version": 3
   },
   "file_extension": ".py",
   "mimetype": "text/x-python",
   "name": "python",
   "nbconvert_exporter": "python",
   "pygments_lexer": "ipython3",
   "version": "3.7.6"
  }
 },
 "nbformat": 4,
 "nbformat_minor": 4
}
