{
 "cells": [
  {
   "cell_type": "code",
   "execution_count": 11,
   "metadata": {},
   "outputs": [
    {
     "name": "stdout",
     "output_type": "stream",
     "text": [
      "float64\n",
      "Size of the array is : 3\n",
      "Length of one array element in bytes is : 8\n",
      "Total bytes consumed by the elements of the array is : 24\n"
     ]
    }
   ],
   "source": [
    "import numpy as np \n",
    "  \n",
    "class ElementCount:\n",
    "    \n",
    "    def number_and_length_of_elements(self):\n",
    "        \"\"\"\n",
    "        function to find the number of elements of an \n",
    "        array, length of one array element in bytes \n",
    "        and total bytes consumed by the elements\n",
    "        \"\"\"\n",
    "        my_array = np.array([10, 20, 30], dtype=np.float64)\n",
    "        print(my_array.dtype) # return the data type of the array\n",
    "        print(\"Size of the array is :\", my_array.size) # size return the number of elements \n",
    "        print(\"Length of one array element in bytes is :\", my_array.itemsize) # itemsize returns the size(in bytes) of each element of a NumPy array.\n",
    "        print(\"Total bytes consumed by the elements of the array is :\", my_array.nbytes) # nbytes return total bytes consumed by the elements of the array\n",
    "        \n",
    "if __name__ == \"__main__\":\n",
    "    ArrayCount = ElementCount()\n",
    "    ArrayCount.number_and_length_of_elements()"
   ]
  },
  {
   "cell_type": "code",
   "execution_count": null,
   "metadata": {},
   "outputs": [],
   "source": []
  }
 ],
 "metadata": {
  "kernelspec": {
   "display_name": "Python 3",
   "language": "python",
   "name": "python3"
  },
  "language_info": {
   "codemirror_mode": {
    "name": "ipython",
    "version": 3
   },
   "file_extension": ".py",
   "mimetype": "text/x-python",
   "name": "python",
   "nbconvert_exporter": "python",
   "pygments_lexer": "ipython3",
   "version": "3.7.6"
  }
 },
 "nbformat": 4,
 "nbformat_minor": 4
}
