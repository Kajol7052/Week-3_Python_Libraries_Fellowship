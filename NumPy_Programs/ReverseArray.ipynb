{
 "cells": [
  {
   "cell_type": "code",
   "execution_count": 10,
   "metadata": {},
   "outputs": [
    {
     "name": "stdout",
     "output_type": "stream",
     "text": [
      "Original array is : [12 13 14 15 16 17 18 19 20 21 22 23 24 25 26 27 28 29 30 31 32 33 34 35\n",
      " 36 37]\n",
      "Reverse array is : [37 36 35 34 33 32 31 30 29 28 27 26 25 24 23 22 21 20 19 18 17 16 15 14\n",
      " 13 12]\n"
     ]
    }
   ],
   "source": [
    "import numpy as np\n",
    "\n",
    "class ReverseArray:\n",
    "    \n",
    "    def reverse_array(self):\n",
    "        \"\"\"\n",
    "        function to reverse an array\n",
    "        \"\"\"\n",
    "        original = np.arange(12, 38) #arange() method gives element within range\n",
    "        print(\"Original array is :\", original)\n",
    "        reverse = original[::-1]    #slicing (start, end, step)\n",
    "        print(\"Reverse array is :\", reverse)\n",
    "    \n",
    "if __name__ == \"__main__\":\n",
    "    ArrayReverse = ReverseArray()\n",
    "    ArrayReverse.reverse_array()"
   ]
  },
  {
   "cell_type": "code",
   "execution_count": null,
   "metadata": {},
   "outputs": [],
   "source": []
  }
 ],
 "metadata": {
  "kernelspec": {
   "display_name": "Python 3",
   "language": "python",
   "name": "python3"
  },
  "language_info": {
   "codemirror_mode": {
    "name": "ipython",
    "version": 3
   },
   "file_extension": ".py",
   "mimetype": "text/x-python",
   "name": "python",
   "nbconvert_exporter": "python",
   "pygments_lexer": "ipython3",
   "version": "3.7.6"
  }
 },
 "nbformat": 4,
 "nbformat_minor": 4
}
