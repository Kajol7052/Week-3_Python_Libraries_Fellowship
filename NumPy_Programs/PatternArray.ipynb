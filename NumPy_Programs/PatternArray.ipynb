{
 "cells": [
  {
   "cell_type": "code",
   "execution_count": 5,
   "metadata": {},
   "outputs": [
    {
     "name": "stdout",
     "output_type": "stream",
     "text": [
      "2-D array is: \n",
      " [[0. 0. 0.]\n",
      " [1. 0. 0.]\n",
      " [1. 1. 0.]\n",
      " [1. 1. 1.]]\n"
     ]
    }
   ],
   "source": [
    "import numpy as np \n",
    "  \n",
    "class Pattern:\n",
    "    \n",
    "    def create_pattern(self):\n",
    "        \"\"\"\n",
    "        function to create a 2-D array in given pattern\n",
    "        \"\"\" \n",
    "        my_array = np.tri(4, 3, -1) # An array with ones at and below the given diagonal and zeros elsewhere. SYntax is numpy.tri(N(rows), M=None(cols), k=0, dtype=<class 'float'>)\n",
    "        print(\"2-D array is: \\n\", my_array)\n",
    "\n",
    "if __name__ == \"__main__\":\n",
    "    CreatePattern = Pattern()\n",
    "    CreatePattern.create_pattern()"
   ]
  },
  {
   "cell_type": "code",
   "execution_count": null,
   "metadata": {},
   "outputs": [],
   "source": [
    " "
   ]
  },
  {
   "cell_type": "code",
   "execution_count": null,
   "metadata": {},
   "outputs": [],
   "source": []
  }
 ],
 "metadata": {
  "kernelspec": {
   "display_name": "Python 3",
   "language": "python",
   "name": "python3"
  },
  "language_info": {
   "codemirror_mode": {
    "name": "ipython",
    "version": 3
   },
   "file_extension": ".py",
   "mimetype": "text/x-python",
   "name": "python",
   "nbconvert_exporter": "python",
   "pygments_lexer": "ipython3",
   "version": "3.7.6"
  }
 },
 "nbformat": 4,
 "nbformat_minor": 4
}
