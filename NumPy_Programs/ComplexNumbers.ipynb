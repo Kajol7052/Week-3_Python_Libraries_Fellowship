{
 "cells": [
  {
   "cell_type": "code",
   "execution_count": 9,
   "metadata": {},
   "outputs": [
    {
     "name": "stdout",
     "output_type": "stream",
     "text": [
      "Original array is :\n",
      " [1.+0.j] \n",
      " [0.70710678+0.70710678j]\n",
      "Real part of the array is :\n",
      " [1.] \n",
      " [0.70710678]\n",
      "Imaginary part of the array is:\n",
      " [0.] \n",
      " [0.70710678]\n"
     ]
    }
   ],
   "source": [
    "import numpy as np \n",
    "  \n",
    "class Complex:\n",
    "    \n",
    "    def print_real_and_imaginary_part(self):\n",
    "        \"\"\"\n",
    "        function to find the real and imaginary \n",
    "        parts of an array of complex numbers\n",
    "        \"\"\"\n",
    "        my_array1 = np.sqrt([1+0j])\n",
    "        my_array2 = np.sqrt([0+1j])\n",
    "        print(\"Original array is :\\n\",my_array1,\"\\n\",my_array2)\n",
    "        print(\"Real part of the array is :\\n\", my_array1.real,\"\\n\",my_array2.real)\n",
    "        print(\"Imaginary part of the array is:\\n\", my_array1.imag,\"\\n\",my_array2.imag)\n",
    "        \n",
    "\n",
    "if __name__ == \"__main__\":\n",
    "    ArrayComplex = Complex()\n",
    "    ArrayComplex.print_real_and_imaginary_part()"
   ]
  },
  {
   "cell_type": "code",
   "execution_count": null,
   "metadata": {},
   "outputs": [],
   "source": []
  }
 ],
 "metadata": {
  "kernelspec": {
   "display_name": "Python 3",
   "language": "python",
   "name": "python3"
  },
  "language_info": {
   "codemirror_mode": {
    "name": "ipython",
    "version": 3
   },
   "file_extension": ".py",
   "mimetype": "text/x-python",
   "name": "python",
   "nbconvert_exporter": "python",
   "pygments_lexer": "ipython3",
   "version": "3.7.6"
  }
 },
 "nbformat": 4,
 "nbformat_minor": 4
}
