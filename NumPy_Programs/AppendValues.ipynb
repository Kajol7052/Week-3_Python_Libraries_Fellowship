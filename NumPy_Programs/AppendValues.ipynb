{
 "cells": [
  {
   "cell_type": "code",
   "execution_count": 3,
   "metadata": {},
   "outputs": [
    {
     "name": "stdout",
     "output_type": "stream",
     "text": [
      "Original array is :\n",
      " [10, 20, 30]\n",
      "After appending the values at end, Array is :\n",
      " [10 20 30 40 50 60 70 80 90]\n"
     ]
    }
   ],
   "source": [
    "import numpy as np \n",
    "  \n",
    "class AppendValuesInArray:\n",
    "    \n",
    "    def append_values_to_end_of_array(self):\n",
    "        \"\"\"\n",
    "        function to append values \n",
    "        to the end of an array\n",
    "        \"\"\"\n",
    "        original = [10, 20, 30]\n",
    "        print(\"Original array is :\\n\", original)\n",
    "        append_array = np.append(original, [[40, 50, 60], [70, 80, 90]]) # append() func. is used to add the elements at the end of the array\n",
    "        print(\"After appending the values at end, Array is :\\n\", append_array)\n",
    "\n",
    "if __name__ == \"__main__\":\n",
    "    ArrayAppend = AppendValuesInArray()\n",
    "    ArrayAppend.append_values_to_end_of_array()"
   ]
  },
  {
   "cell_type": "code",
   "execution_count": null,
   "metadata": {},
   "outputs": [],
   "source": []
  }
 ],
 "metadata": {
  "kernelspec": {
   "display_name": "Python 3",
   "language": "python",
   "name": "python3"
  },
  "language_info": {
   "codemirror_mode": {
    "name": "ipython",
    "version": 3
   },
   "file_extension": ".py",
   "mimetype": "text/x-python",
   "name": "python",
   "nbconvert_exporter": "python",
   "pygments_lexer": "ipython3",
   "version": "3.7.6"
  }
 },
 "nbformat": 4,
 "nbformat_minor": 4
}
