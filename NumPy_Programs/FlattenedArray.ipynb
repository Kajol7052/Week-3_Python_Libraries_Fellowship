{
 "cells": [
  {
   "cell_type": "code",
   "execution_count": 5,
   "metadata": {},
   "outputs": [
    {
     "name": "stdout",
     "output_type": "stream",
     "text": [
      "Original array is :\n",
      " [[10 20 30]\n",
      " [20 40 50]]\n",
      "Flattened array is :\n",
      " [10 20 30 20 40 50]\n"
     ]
    }
   ],
   "source": [
    "import numpy as np \n",
    "  \n",
    "class FlattenedArray:\n",
    "    \n",
    "    def create_flattened_array(self):\n",
    "        \"\"\"\n",
    "        function to create a contiguous flattened array\n",
    "        \"\"\"\n",
    "        my_array = np.array([[10, 20, 30], [20, 40, 50]])\n",
    "        print(\"Original array is :\\n\", my_array)\n",
    "        flattened_array = my_array.ravel() #ravel() return only view of original array , can also use flatten()\n",
    "        print(\"Flattened array is :\\n\", flattened_array)\n",
    "        \n",
    "if __name__ == \"__main__\":\n",
    "    ArrayFlattened = FlattenedArray()\n",
    "    ArrayFlattened.create_flattened_array()\n",
    "    "
   ]
  },
  {
   "cell_type": "code",
   "execution_count": null,
   "metadata": {},
   "outputs": [],
   "source": []
  }
 ],
 "metadata": {
  "kernelspec": {
   "display_name": "Python 3",
   "language": "python",
   "name": "python3"
  },
  "language_info": {
   "codemirror_mode": {
    "name": "ipython",
    "version": 3
   },
   "file_extension": ".py",
   "mimetype": "text/x-python",
   "name": "python",
   "nbconvert_exporter": "python",
   "pygments_lexer": "ipython3",
   "version": "3.7.6"
  }
 },
 "nbformat": 4,
 "nbformat_minor": 4
}
