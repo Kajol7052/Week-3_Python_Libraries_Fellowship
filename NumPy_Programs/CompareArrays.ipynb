{
 "cells": [
  {
   "cell_type": "code",
   "execution_count": 7,
   "metadata": {},
   "outputs": [
    {
     "name": "stdout",
     "output_type": "stream",
     "text": [
      "Array a :  [1 2] \n",
      " Array b :  [4 5]\n",
      "a > b\n",
      " [False False]\n",
      "a >= b\n",
      " [False False]\n",
      "a < b\n",
      " [ True  True]\n",
      "a <= b\n",
      " [ True  True]\n"
     ]
    }
   ],
   "source": [
    "import numpy as np \n",
    "  \n",
    "class ArrayCompare:\n",
    "    \n",
    "    def compare_two_arrays(self):\n",
    "        \"\"\"\n",
    "        function to compare two arrays using numpy\n",
    "        \"\"\"\n",
    "        a = np.array([1, 2])\n",
    "        b = np.array([4, 5])\n",
    "        print(\"Array a : \", a,\"\\n\",\"Array b : \", b)\n",
    "        print(\"a > b\\n\", np.greater(a, b))\n",
    "        print(\"a >= b\\n\", np.greater_equal(a, b))\n",
    "        print(\"a < b\\n\", np.less(a, b))\n",
    "        print(\"a <= b\\n\", np.less_equal(a, b))\n",
    "\n",
    "if __name__ == \"__main__\":\n",
    "    CompareTwoArrays = ArrayCompare()\n",
    "    CompareTwoArrays.compare_two_arrays()"
   ]
  },
  {
   "cell_type": "code",
   "execution_count": null,
   "metadata": {},
   "outputs": [],
   "source": []
  },
  {
   "cell_type": "code",
   "execution_count": null,
   "metadata": {},
   "outputs": [],
   "source": []
  }
 ],
 "metadata": {
  "kernelspec": {
   "display_name": "Python 3",
   "language": "python",
   "name": "python3"
  },
  "language_info": {
   "codemirror_mode": {
    "name": "ipython",
    "version": 3
   },
   "file_extension": ".py",
   "mimetype": "text/x-python",
   "name": "python",
   "nbconvert_exporter": "python",
   "pygments_lexer": "ipython3",
   "version": "3.7.6"
  }
 },
 "nbformat": 4,
 "nbformat_minor": 4
}
