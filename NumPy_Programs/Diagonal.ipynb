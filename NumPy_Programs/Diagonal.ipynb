{
 "cells": [
  {
   "cell_type": "code",
   "execution_count": 1,
   "metadata": {},
   "outputs": [
    {
     "name": "stdout",
     "output_type": "stream",
     "text": [
      "3-D array is: \n",
      " [[1. 0. 0.]\n",
      " [0. 1. 0.]\n",
      " [0. 0. 1.]]\n"
     ]
    }
   ],
   "source": [
    "import numpy as np \n",
    "  \n",
    "class Diagonal:\n",
    "    \n",
    "    def create_ones_on_diagonal(self):\n",
    "        \"\"\"\n",
    "        function to create a 2-D array with 3*3 matrix in\n",
    "        ones on a diagonal and zeros elsewhere.\n",
    "        \"\"\"\n",
    "        my_array = np.eye(3) # The eye tool returns a 2-D array with  1’s as the diagonal and  0’s elsewhere.\n",
    "        print(\"2-D array is: \\n\", my_array)\n",
    "\n",
    "if __name__ == \"__main__\":\n",
    "    CreateDiagonal = Diagonal()\n",
    "    CreateDiagonal.create_ones_on_diagonal()"
   ]
  },
  {
   "cell_type": "code",
   "execution_count": null,
   "metadata": {},
   "outputs": [],
   "source": []
  }
 ],
 "metadata": {
  "kernelspec": {
   "display_name": "Python 3",
   "language": "python",
   "name": "python3"
  },
  "language_info": {
   "codemirror_mode": {
    "name": "ipython",
    "version": 3
   },
   "file_extension": ".py",
   "mimetype": "text/x-python",
   "name": "python",
   "nbconvert_exporter": "python",
   "pygments_lexer": "ipython3",
   "version": "3.7.6"
  }
 },
 "nbformat": 4,
 "nbformat_minor": 4
}
