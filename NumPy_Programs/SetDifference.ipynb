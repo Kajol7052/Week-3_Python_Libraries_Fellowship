{
 "cells": [
  {
   "cell_type": "code",
   "execution_count": 7,
   "metadata": {},
   "outputs": [
    {
     "name": "stdout",
     "output_type": "stream",
     "text": [
      "Set Difference is : [ 0 20 60 80]\n"
     ]
    }
   ],
   "source": [
    "import numpy as np \n",
    "  \n",
    "class SetDifference:\n",
    "    \n",
    "    def set_difference_of_two_arrays(self):\n",
    "        \"\"\"\n",
    "        Function find the set difference of two arrays.\n",
    "        The set difference will return the sorted, \n",
    "        unique values in array1 that are not in array2. \n",
    "        \"\"\"\n",
    "        my_array1 = np.array([0, 10, 20, 40, 60, 80])\n",
    "        my_array2 = np.array([10, 30, 40, 50, 70])\n",
    "        print(\"Set Difference is :\", np.setdiff1d(my_array1, my_array2)) # using setdiff1d() method\n",
    "\n",
    "        \n",
    "if __name__ == \"__main__\":\n",
    "    Difference = SetDifference()\n",
    "    Difference.set_difference_of_two_arrays()"
   ]
  },
  {
   "cell_type": "code",
   "execution_count": null,
   "metadata": {},
   "outputs": [],
   "source": []
  }
 ],
 "metadata": {
  "kernelspec": {
   "display_name": "Python 3",
   "language": "python",
   "name": "python3"
  },
  "language_info": {
   "codemirror_mode": {
    "name": "ipython",
    "version": 3
   },
   "file_extension": ".py",
   "mimetype": "text/x-python",
   "name": "python",
   "nbconvert_exporter": "python",
   "pygments_lexer": "ipython3",
   "version": "3.7.6"
  }
 },
 "nbformat": 4,
 "nbformat_minor": 4
}
