{
 "cells": [
  {
   "cell_type": "code",
   "execution_count": 5,
   "metadata": {},
   "outputs": [
    {
     "name": "stdout",
     "output_type": "stream",
     "text": [
      "Array:\n",
      " [10 20 30 40 50 60 70]\n",
      "\n",
      "Content in textfile.txt:\n",
      " [10 20 30 40 50 60 70]\n"
     ]
    }
   ],
   "source": [
    "# Program to save a NumPy array to a text file  \n",
    "import numpy as np\n",
    "  \n",
    "my_list = [10, 20, 30, 40, 50, 60, 70] \n",
    "my_array = np.array(my_list) \n",
    "  \n",
    "print('Array:\\n', my_array) \n",
    "file = open(\"textfile.txt\", \"w+\")\n",
    "  \n",
    "content = str(my_array) # Saving the array in a text file \n",
    "file.write(content) \n",
    "file.close() \n",
    "  \n",
    "file = open(\"textfile.txt\", \"r\") # Displaying the contents of the text file \n",
    "content = file.read() \n",
    "  \n",
    "print(\"\\nContent in textfile.txt:\\n\", content) \n",
    "file.close() "
   ]
  },
  {
   "cell_type": "code",
   "execution_count": null,
   "metadata": {},
   "outputs": [],
   "source": []
  },
  {
   "cell_type": "code",
   "execution_count": null,
   "metadata": {},
   "outputs": [],
   "source": []
  }
 ],
 "metadata": {
  "kernelspec": {
   "display_name": "Python 3",
   "language": "python",
   "name": "python3"
  },
  "language_info": {
   "codemirror_mode": {
    "name": "ipython",
    "version": 3
   },
   "file_extension": ".py",
   "mimetype": "text/x-python",
   "name": "python",
   "nbconvert_exporter": "python",
   "pygments_lexer": "ipython3",
   "version": "3.7.6"
  }
 },
 "nbformat": 4,
 "nbformat_minor": 4
}
