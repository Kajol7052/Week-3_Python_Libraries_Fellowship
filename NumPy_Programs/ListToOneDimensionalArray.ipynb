{
 "cells": [
  {
   "cell_type": "code",
   "execution_count": 9,
   "metadata": {},
   "outputs": [
    {
     "name": "stdout",
     "output_type": "stream",
     "text": [
      "One Dimensional NumPy Array is:  [ 12.23  13.32 100.    36.32]\n"
     ]
    }
   ],
   "source": [
    "import numpy as np\n",
    "\n",
    "class ListToArray:\n",
    "    \n",
    "    def convert_list_to_array(self):\n",
    "        \"\"\"\n",
    "        funtion convert a list of numeric \n",
    "        values to 1-D NumPy array\n",
    "        \"\"\"\n",
    "        arr = np.array([12.23, 13.32, 100, 36.32]) #array() function convert the list into array\n",
    "        print(\"One Dimensional NumPy Array is: \" ,arr)\n",
    "        \n",
    "if __name__ == \"__main__\":\n",
    "    OneDimArray = ListToArray()\n",
    "    OneDimArray.convert_list_to_array()"
   ]
  },
  {
   "cell_type": "code",
   "execution_count": null,
   "metadata": {},
   "outputs": [],
   "source": []
  }
 ],
 "metadata": {
  "kernelspec": {
   "display_name": "Python 3",
   "language": "python",
   "name": "python3"
  },
  "language_info": {
   "codemirror_mode": {
    "name": "ipython",
    "version": 3
   },
   "file_extension": ".py",
   "mimetype": "text/x-python",
   "name": "python",
   "nbconvert_exporter": "python",
   "pygments_lexer": "ipython3",
   "version": "3.7.6"
  }
 },
 "nbformat": 4,
 "nbformat_minor": 4
}
