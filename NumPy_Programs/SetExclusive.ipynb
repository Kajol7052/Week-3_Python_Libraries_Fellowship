{
 "cells": [
  {
   "cell_type": "code",
   "execution_count": 2,
   "metadata": {},
   "outputs": [
    {
     "name": "stdout",
     "output_type": "stream",
     "text": [
      "Set Exclusive is : [ 0 20 30 50 60 70 80]\n"
     ]
    }
   ],
   "source": [
    "import numpy as np \n",
    "  \n",
    "class SetExclusive:\n",
    "    \n",
    "    def set_exclusive_of_two_arrays(self):\n",
    "        \"\"\"\n",
    "        Function find the set exclusive-or of two arrays.\n",
    "        Set exclusive-or will return the sorted, unique \n",
    "        values that are in only one (not both) of the input arrays. \n",
    "        \"\"\"\n",
    "        my_array1 = np.array([0, 10, 20, 40, 60, 80])\n",
    "        my_array2 = np.array([10, 30, 40, 50, 70])\n",
    "        print(\"Set Exclusive is :\", np.setxor1d(my_array1, my_array2)) # using setdiff1d() method\n",
    "\n",
    "        \n",
    "if __name__ == \"__main__\":\n",
    "    Exclusive = SetExclusive()\n",
    "    Exclusive.set_exclusive_of_two_arrays()"
   ]
  },
  {
   "cell_type": "code",
   "execution_count": null,
   "metadata": {},
   "outputs": [],
   "source": []
  }
 ],
 "metadata": {
  "kernelspec": {
   "display_name": "Python 3",
   "language": "python",
   "name": "python3"
  },
  "language_info": {
   "codemirror_mode": {
    "name": "ipython",
    "version": 3
   },
   "file_extension": ".py",
   "mimetype": "text/x-python",
   "name": "python",
   "nbconvert_exporter": "python",
   "pygments_lexer": "ipython3",
   "version": "3.7.6"
  }
 },
 "nbformat": 4,
 "nbformat_minor": 4
}
