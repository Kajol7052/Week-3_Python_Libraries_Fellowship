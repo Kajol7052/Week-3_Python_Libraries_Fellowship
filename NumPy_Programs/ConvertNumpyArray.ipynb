{
 "cells": [
  {
   "cell_type": "code",
   "execution_count": 1,
   "metadata": {},
   "outputs": [
    {
     "name": "stdout",
     "output_type": "stream",
     "text": [
      "Original array is :\n",
      " [0.26153123 0.52760141 0.5718299  0.5927067  0.7831874  0.69746349\n",
      " 0.35399976 0.99469633 0.0694458  0.54711478]\n",
      "Array with precision 3 is :\n",
      " [0.262 0.528 0.572 0.593 0.783 0.697 0.354 0.995 0.069 0.547]\n"
     ]
    }
   ],
   "source": [
    "import numpy as np \n",
    "  \n",
    "class Precision:\n",
    "    \n",
    "    def display_floating_values(self):\n",
    "        \"\"\"\n",
    "        function to program to display NumPy array elements\n",
    "        of floating values with given precision\n",
    "        \"\"\"\n",
    "        my_array = np.array([ 0.26153123, 0.52760141, 0.5718299, 0.5927067, 0.7831874, 0.69746349, 0.35399976, 0.99469633, 0.0694458, 0.54711478]) \n",
    "        print(\"Original array is :\\n\",my_array)\n",
    "        np.set_printoptions(precision=3)\n",
    "        print(\"Array with precision 3 is :\\n\",my_array)\n",
    "\n",
    "if __name__ == \"__main__\":\n",
    "    Display = Precision()\n",
    "    Display.display_floating_values()"
   ]
  },
  {
   "cell_type": "code",
   "execution_count": null,
   "metadata": {},
   "outputs": [],
   "source": [
    " "
   ]
  }
 ],
 "metadata": {
  "kernelspec": {
   "display_name": "Python 3",
   "language": "python",
   "name": "python3"
  },
  "language_info": {
   "codemirror_mode": {
    "name": "ipython",
    "version": 3
   },
   "file_extension": ".py",
   "mimetype": "text/x-python",
   "name": "python",
   "nbconvert_exporter": "python",
   "pygments_lexer": "ipython3",
   "version": "3.7.6"
  }
 },
 "nbformat": 4,
 "nbformat_minor": 4
}
