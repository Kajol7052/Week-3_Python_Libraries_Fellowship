{
 "cells": [
  {
   "cell_type": "code",
   "execution_count": 17,
   "metadata": {},
   "outputs": [
    {
     "name": "stdout",
     "output_type": "stream",
     "text": [
      "Original array is :\n",
      " [[1. 1. 1. 1. 1.]\n",
      " [1. 1. 1. 1. 1.]\n",
      " [1. 1. 1. 1. 1.]\n",
      " [1. 1. 1. 1. 1.]\n",
      " [1. 1. 1. 1. 1.]]\n",
      "Updated array with 1 on the border and 0 inside is :\n",
      " [[1. 1. 1. 1. 1.]\n",
      " [1. 0. 0. 0. 1.]\n",
      " [1. 0. 0. 0. 1.]\n",
      " [1. 0. 0. 0. 1.]\n",
      " [1. 1. 1. 1. 1.]]\n"
     ]
    }
   ],
   "source": [
    "import numpy as np\n",
    "\n",
    "class CreateBorder:\n",
    "    \n",
    "    def create_border_with_one(self):\n",
    "        \"\"\"\n",
    "        function to create a 2d array with\n",
    "        1 on the border and 0 inside\n",
    "        \"\"\"\n",
    "        original = np.ones((5,5)) # creating a 5*5 matrix with 1\n",
    "        print(\"Original array is :\\n\", original)\n",
    "        original[1:-1,1:-1] = 0\n",
    "        print(\"Updated array with 1 on the border and 0 inside is :\\n\", original)\n",
    "        \n",
    "if __name__ == \"__main__\":\n",
    "    BorderCreate = CreateBorder()\n",
    "    BorderCreate.create_border_with_one()"
   ]
  },
  {
   "cell_type": "code",
   "execution_count": null,
   "metadata": {},
   "outputs": [],
   "source": []
  }
 ],
 "metadata": {
  "kernelspec": {
   "display_name": "Python 3",
   "language": "python",
   "name": "python3"
  },
  "language_info": {
   "codemirror_mode": {
    "name": "ipython",
    "version": 3
   },
   "file_extension": ".py",
   "mimetype": "text/x-python",
   "name": "python",
   "nbconvert_exporter": "python",
   "pygments_lexer": "ipython3",
   "version": "3.7.6"
  }
 },
 "nbformat": 4,
 "nbformat_minor": 4
}
