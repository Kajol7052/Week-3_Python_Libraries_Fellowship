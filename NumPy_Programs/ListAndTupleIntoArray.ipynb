{
 "cells": [
  {
   "cell_type": "code",
   "execution_count": 6,
   "metadata": {},
   "outputs": [
    {
     "name": "stdout",
     "output_type": "stream",
     "text": [
      "List to array is: \n",
      " [1 2 3 4 5 6 7 8]\n",
      "Tuple to array is: \n",
      " [[8 4 6]\n",
      " [1 2 3]]\n"
     ]
    }
   ],
   "source": [
    "import numpy as np \n",
    "  \n",
    "class ConvertToArray:\n",
    "    \n",
    "    def list_and_tuple_into_array(self):\n",
    "        \"\"\"\n",
    "        function to convert a list\n",
    "        and tuple into arrays\n",
    "        \"\"\"\n",
    "        my_list = [1, 2, 3, 4, 5, 6, 7, 8]\n",
    "        print(\"List to array is: \\n\", np.asarray(my_list)) # array (by default) will make a copy of the object, while asarray will not unless necessary\n",
    "        my_tuple = ([8, 4, 6], [1, 2, 3])\n",
    "        print(\"Tuple to array is: \\n\", np.asarray(my_tuple))\n",
    "    \n",
    "if __name__ == \"__main__\":\n",
    "    ArrayConversion = ConvertToArray()\n",
    "    ArrayConversion.list_and_tuple_into_array()"
   ]
  }
 ],
 "metadata": {
  "kernelspec": {
   "display_name": "Python 3",
   "language": "python",
   "name": "python3"
  },
  "language_info": {
   "codemirror_mode": {
    "name": "ipython",
    "version": 3
   },
   "file_extension": ".py",
   "mimetype": "text/x-python",
   "name": "python",
   "nbconvert_exporter": "python",
   "pygments_lexer": "ipython3",
   "version": "3.7.6"
  }
 },
 "nbformat": 4,
 "nbformat_minor": 4
}
