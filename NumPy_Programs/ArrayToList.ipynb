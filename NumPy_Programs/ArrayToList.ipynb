{
 "cells": [
  {
   "cell_type": "code",
   "execution_count": 2,
   "metadata": {},
   "outputs": [
    {
     "name": "stdout",
     "output_type": "stream",
     "text": [
      "Original array is :\n",
      " [[0 1]\n",
      " [2 3]\n",
      " [4 5]]\n",
      "After converting array to list :\n",
      " [[0, 1], [2, 3], [4, 5]]\n"
     ]
    }
   ],
   "source": [
    "import numpy as np \n",
    "  \n",
    "class ConvertToList:\n",
    "    \n",
    "    def convert_array_to_list(self):\n",
    "        \"\"\"\n",
    "        function to convert a NumPy array\n",
    "        into Python list structure\n",
    "        \"\"\"\n",
    "        my_array = np.arange(6).reshape(3, 2)\n",
    "        print(\"Original array is :\\n\",my_array)\n",
    "        print(\"After converting array to list :\\n\", my_array.tolist())\n",
    "\n",
    "if __name__ == \"__main__\":\n",
    "    Conversion = ConvertToList()\n",
    "    Conversion.convert_array_to_list()"
   ]
  },
  {
   "cell_type": "code",
   "execution_count": null,
   "metadata": {},
   "outputs": [],
   "source": []
  }
 ],
 "metadata": {
  "kernelspec": {
   "display_name": "Python 3",
   "language": "python",
   "name": "python3"
  },
  "language_info": {
   "codemirror_mode": {
    "name": "ipython",
    "version": 3
   },
   "file_extension": ".py",
   "mimetype": "text/x-python",
   "name": "python",
   "nbconvert_exporter": "python",
   "pygments_lexer": "ipython3",
   "version": "3.7.6"
  }
 },
 "nbformat": 4,
 "nbformat_minor": 4
}
