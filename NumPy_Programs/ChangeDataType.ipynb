{
 "cells": [
  {
   "cell_type": "code",
   "execution_count": 16,
   "metadata": {},
   "outputs": [
    {
     "name": "stdout",
     "output_type": "stream",
     "text": [
      "Original Array is: \n",
      " [[ 2  4  6]\n",
      " [ 6  8 10]]\n",
      "Before chnaging the data type of the array is : int32\n",
      "After chnaging the data type of the array is : float64 \n",
      "New Array is: \n",
      " [[ 2.  4.  6.]\n",
      " [ 6.  8. 10.]]\n"
     ]
    }
   ],
   "source": [
    "import numpy as np \n",
    "  \n",
    "class ChangeDataType:\n",
    "    \n",
    "    def change_data_type_of_array(self):\n",
    "        \"\"\"\n",
    "        function to change the data type of an array\n",
    "        \"\"\"\n",
    "        my_array = np.array([[2, 4, 6], [6, 8, 10]], np.int32)\n",
    "        print(\"Original Array is: \\n\", my_array)\n",
    "        print(\"Before chnaging the data type of the array is :\", my_array.dtype)\n",
    "        new_array = my_array.astype(float) # Change the data type \n",
    "        print(\"After chnaging the data type of the array is :\",new_array.dtype, \"\\nNew Array is: \\n\", new_array)\n",
    "\n",
    "\n",
    "        \n",
    "if __name__ == \"__main__\":\n",
    "    DataTypeChange = ChangeDataType()\n",
    "    DataTypeChange.change_data_type_of_array()"
   ]
  },
  {
   "cell_type": "code",
   "execution_count": null,
   "metadata": {},
   "outputs": [],
   "source": []
  }
 ],
 "metadata": {
  "kernelspec": {
   "display_name": "Python 3",
   "language": "python",
   "name": "python3"
  },
  "language_info": {
   "codemirror_mode": {
    "name": "ipython",
    "version": 3
   },
   "file_extension": ".py",
   "mimetype": "text/x-python",
   "name": "python",
   "nbconvert_exporter": "python",
   "pygments_lexer": "ipython3",
   "version": "3.7.6"
  }
 },
 "nbformat": 4,
 "nbformat_minor": 4
}
