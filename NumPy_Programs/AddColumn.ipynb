{
 "cells": [
  {
   "cell_type": "code",
   "execution_count": 3,
   "metadata": {},
   "outputs": [
    {
     "name": "stdout",
     "output_type": "stream",
     "text": [
      "[[ 10  20  30 100]\n",
      " [ 40  50  60 200]]\n"
     ]
    }
   ],
   "source": [
    "import numpy as np \n",
    "  \n",
    "class AddColumn:\n",
    "    \n",
    "    def add_extra_column(self):\n",
    "        \"\"\"\n",
    "        function to add an extra \n",
    "        column to an numpy array\n",
    "        \"\"\"\n",
    "        my_array = np.array([[10,20,30], [40,50,60]])\n",
    "        extra_col = np.array([[100], [200]])\n",
    "        print(np.append(my_array, extra_col, axis=1))\n",
    "    \n",
    "\n",
    "if __name__ == \"__main__\":\n",
    "    Column = AddColumn()\n",
    "    Column.add_extra_column()"
   ]
  }
 ],
 "metadata": {
  "kernelspec": {
   "display_name": "Python 3",
   "language": "python",
   "name": "python3"
  },
  "language_info": {
   "codemirror_mode": {
    "name": "ipython",
    "version": 3
   },
   "file_extension": ".py",
   "mimetype": "text/x-python",
   "name": "python",
   "nbconvert_exporter": "python",
   "pygments_lexer": "ipython3",
   "version": "3.7.6"
  }
 },
 "nbformat": 4,
 "nbformat_minor": 4
}
