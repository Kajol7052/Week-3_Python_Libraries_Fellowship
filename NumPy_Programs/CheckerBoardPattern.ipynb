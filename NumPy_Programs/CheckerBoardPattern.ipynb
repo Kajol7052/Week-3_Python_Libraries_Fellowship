{
 "cells": [
  {
   "cell_type": "code",
   "execution_count": 4,
   "metadata": {},
   "outputs": [
    {
     "name": "stdout",
     "output_type": "stream",
     "text": [
      "Checkerboard pattern is :\n",
      " [[0 1 0 1 0 1 0 1]\n",
      " [1 0 1 0 1 0 1 0]\n",
      " [0 1 0 1 0 1 0 1]\n",
      " [1 0 1 0 1 0 1 0]\n",
      " [0 1 0 1 0 1 0 1]\n",
      " [1 0 1 0 1 0 1 0]\n",
      " [0 1 0 1 0 1 0 1]\n",
      " [1 0 1 0 1 0 1 0]]\n"
     ]
    }
   ],
   "source": [
    "import numpy as np \n",
    "  \n",
    "class CheckerBoard:\n",
    "    \n",
    "    def checker_board_pattern(self):\n",
    "        \"\"\"\n",
    "        function to create a 8x8 matrix and\n",
    "        fill it with a checkerboard pattern\n",
    "        \"\"\"\n",
    "        x = np.ones((3,3))\n",
    "        x = np.zeros((8,8),dtype=int)\n",
    "        x[1::2,::2] = 1 # Slice from 1st index row till 1+2+2.. and fill all columns with 1 starting from 0th to 0+2+2... and so on.\n",
    "        x[::2,1::2] = 1 # Slice from 0th row till 0+2+2.. and fill all columns with 1 starting from 1 to 1+2+2+..\n",
    "        print(\"Checkerboard pattern is :\\n\", x)\n",
    "        \n",
    "\n",
    "if __name__ == \"__main__\":\n",
    "    Pattern = CheckerBoard()\n",
    "    Pattern.checker_board_pattern()"
   ]
  },
  {
   "cell_type": "code",
   "execution_count": null,
   "metadata": {},
   "outputs": [],
   "source": []
  }
 ],
 "metadata": {
  "kernelspec": {
   "display_name": "Python 3",
   "language": "python",
   "name": "python3"
  },
  "language_info": {
   "codemirror_mode": {
    "name": "ipython",
    "version": 3
   },
   "file_extension": ".py",
   "mimetype": "text/x-python",
   "name": "python",
   "nbconvert_exporter": "python",
   "pygments_lexer": "ipython3",
   "version": "3.7.6"
  }
 },
 "nbformat": 4,
 "nbformat_minor": 4
}
