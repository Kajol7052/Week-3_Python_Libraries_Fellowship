{
 "cells": [
  {
   "cell_type": "code",
   "execution_count": 2,
   "metadata": {},
   "outputs": [
    {
     "name": "stdout",
     "output_type": "stream",
     "text": [
      "Original array is :\n",
      " [ 10  20  30  40  50  60  70  80  90 100]\n",
      "After removing first, fourth and fifth elements array is :\n",
      " [ 20  30  60  70  80  90 100]\n"
     ]
    }
   ],
   "source": [
    "import numpy as np \n",
    "  \n",
    "class RemoveElements:\n",
    "    \n",
    "    def remove_specific_elements(self):\n",
    "        \"\"\"\n",
    "        function to remove specific \n",
    "        elements in a numpy array\n",
    "        \"\"\"\n",
    "        my_array = np.array([10, 20, 30, 40, 50, 60, 70, 80, 90, 100])\n",
    "        print(\"Original array is :\\n\", my_array)\n",
    "        new_array = np.delete(my_array, [0, 3, 4])\n",
    "        print(\"After removing first, fourth and fifth elements array is :\\n\",new_array)\n",
    "        \n",
    "\n",
    "if __name__ == \"__main__\":\n",
    "    Remove = RemoveElements()\n",
    "    Remove.remove_specific_elements()"
   ]
  },
  {
   "cell_type": "code",
   "execution_count": null,
   "metadata": {},
   "outputs": [],
   "source": []
  }
 ],
 "metadata": {
  "kernelspec": {
   "display_name": "Python 3",
   "language": "python",
   "name": "python3"
  },
  "language_info": {
   "codemirror_mode": {
    "name": "ipython",
    "version": 3
   },
   "file_extension": ".py",
   "mimetype": "text/x-python",
   "name": "python",
   "nbconvert_exporter": "python",
   "pygments_lexer": "ipython3",
   "version": "3.7.6"
  }
 },
 "nbformat": 4,
 "nbformat_minor": 4
}
