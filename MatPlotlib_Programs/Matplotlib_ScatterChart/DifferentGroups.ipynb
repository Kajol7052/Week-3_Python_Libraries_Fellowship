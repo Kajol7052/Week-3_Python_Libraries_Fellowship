{
 "cells": [
  {
   "cell_type": "code",
   "execution_count": 5,
   "metadata": {},
   "outputs": [
    {
     "data": {
      "image/png": "[encoded data removed]",
      "text/plain": [
       "<Figure size 432x288 with 1 Axes>"
      ]
     },
     "metadata": {
      "needs_background": "light"
     },
     "output_type": "display_data"
    }
   ],
   "source": [
    "import matplotlib.pyplot as plt\n",
    "import numpy as np\n",
    "\n",
    "class ComparingHeightWeight:\n",
    "    \n",
    "    def different_groups_comparing_weights_heights(self):\n",
    "        \"\"\"\n",
    "        function to draw a scatter plot for three \n",
    "        different groups comparing weights and heights \n",
    "        \"\"\"\n",
    "        w1 = [45,66,73,56,67,87,69,74,59,86]\n",
    "        h1 = [101,165,173,123,165,187,196,145,156,176]\n",
    "        plt.scatter(w1, h1, marker='^', color='b', s=40)\n",
    "        w2 = [55,53,87,67,95,65,66,62,81,74]\n",
    "        h2 = [176,104,114,154,112,165,162,175,187,168]\n",
    "        plt.scatter(w2, h2, marker='^', color='r', s=40)\n",
    "        w3 = [93,85,84,68,79,72,61,78,88,65]\n",
    "        h3 = [145,137,128,143,167,187,173,125,154,137]\n",
    "        plt.scatter(w3, h3, marker='^', color='k', s=40)\n",
    "        plt.title('Scatter Plot for 3 groups comparing height and weight')\n",
    "        plt.xlabel('Weight')\n",
    "        plt.ylabel('Height')\n",
    "        plt.show()\n",
    "        \n",
    "\n",
    "        \n",
    "        \n",
    "if __name__ == \"__main__\":\n",
    "    Compare = ComparingHeightWeight()\n",
    "    Compare.different_groups_comparing_weights_heights()"
   ]
  },
  {
   "cell_type": "code",
   "execution_count": null,
   "metadata": {},
   "outputs": [],
   "source": []
  }
 ],
 "metadata": {
  "kernelspec": {
   "display_name": "Python 3",
   "language": "python",
   "name": "python3"
  },
  "language_info": {
   "codemirror_mode": {
    "name": "ipython",
    "version": 3
   },
   "file_extension": ".py",
   "mimetype": "text/x-python",
   "name": "python",
   "nbconvert_exporter": "python",
   "pygments_lexer": "ipython3",
   "version": "3.7.6"
  }
 },
 "nbformat": 4,
 "nbformat_minor": 4
}
