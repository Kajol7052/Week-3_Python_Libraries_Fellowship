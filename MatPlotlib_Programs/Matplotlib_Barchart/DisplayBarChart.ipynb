{
 "cells": [
  {
   "cell_type": "code",
   "execution_count": 5,
   "metadata": {},
   "outputs": [
    {
     "data": {
      "image/png": "[encoded data removed]",
      "text/plain": [
       "<Figure size 432x288 with 1 Axes>"
      ]
     },
     "metadata": {
      "needs_background": "light"
     },
     "output_type": "display_data"
    }
   ],
   "source": [
    "import matplotlib.pyplot as plt\n",
    "\n",
    "class BarChart:\n",
    "    \n",
    "    def display_bar_chart(self):\n",
    "        \"\"\"\n",
    "        function to display a bar chart of the\n",
    "        popularity of programming Languages\n",
    "        \"\"\"\n",
    "        programming_languages = ['Java', 'Python', 'PHP', 'JavaScript', 'C#', 'C++']\n",
    "        popularity = [22.2, 17.6, 8.8, 8, 7.7, 6.7]\n",
    "        plt.bar(programming_languages, popularity) # bar() used to draw bar graphs\n",
    "        plt.xlabel(\"Programming Languages\")\n",
    "        plt.ylabel(\"Popularity\")\n",
    "        plt.title(\"Bar Chart\")\n",
    "        plt.show()\n",
    "       \n",
    "if __name__ == \"__main__\":\n",
    "    Bar = BarChart()\n",
    "    Bar.display_bar_chart()"
   ]
  },
  {
   "cell_type": "code",
   "execution_count": null,
   "metadata": {},
   "outputs": [],
   "source": []
  }
 ],
 "metadata": {
  "kernelspec": {
   "display_name": "Python 3",
   "language": "python",
   "name": "python3"
  },
  "language_info": {
   "codemirror_mode": {
    "name": "ipython",
    "version": 3
   },
   "file_extension": ".py",
   "mimetype": "text/x-python",
   "name": "python",
   "nbconvert_exporter": "python",
   "pygments_lexer": "ipython3",
   "version": "3.7.6"
  }
 },
 "nbformat": 4,
 "nbformat_minor": 4
}
