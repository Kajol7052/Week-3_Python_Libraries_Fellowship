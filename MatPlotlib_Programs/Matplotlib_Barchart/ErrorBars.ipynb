{
 "cells": [
  {
   "cell_type": "code",
   "execution_count": null,
   "metadata": {},
   "outputs": [],
   "source": [
    "import matplotlib.pyplot as plt\n",
    "import numpy as np\n",
    "\n",
    "class ErrorBars:\n",
    "    \n",
    "    def bar_plots_with_error_bars(self):\n",
    "        \"\"\"\n",
    "        function to create bar plots with error bars on the same figure\n",
    "        \"\"\"\n",
    "        N = 5\n",
    "        mean_velocity = (0.2474, 0.1235, 0.1737, 0.1824)\n",
    "        SD = (0.3314, 0.2278, 0.2836, 0.2645)\n",
    "        # the x locations for the groups\n",
    "        ind = np.arange(N)    \n",
    "        # the width of the bars\n",
    "        width = 0.35   \n",
    "        plt.bar(ind, menMeans, width, yerr=menStd, color='red')\n",
    "        plt.ylabel('Scores')\n",
    "        plt.xlabel('Velocity')\n",
    "        plt.title('Scores by Velocity')\n",
    "        # Turn on the grid\n",
    "        plt.minorticks_on()\n",
    "        plt.grid(which='major', linestyle='-', linewidth='0.5', color='green')\n",
    "        plt.grid(which='minor', linestyle=':', linewidth='0.5', color='black')\n",
    "        plt.show()\n",
    "        \n",
    "        \n",
    "if __name__ == \"__main__\":\n",
    "    Bar = ErrorBars()\n",
    "    Bar.bar_plots_with_error_bars()\n",
    "    \n",
    "    Mean velocity: 0.2474, 0.1235, 0.1737, 0.1824\n",
    "Standard deviation of velocity: 0.3314, 0.2278, 0.2836, 0.2645\n"
   ]
  }
 ],
 "metadata": {
  "kernelspec": {
   "display_name": "Python 3",
   "language": "python",
   "name": "python3"
  },
  "language_info": {
   "codemirror_mode": {
    "name": "ipython",
    "version": 3
   },
   "file_extension": ".py",
   "mimetype": "text/x-python",
   "name": "python",
   "nbconvert_exporter": "python",
   "pygments_lexer": "ipython3",
   "version": "3.7.6"
  }
 },
 "nbformat": 4,
 "nbformat_minor": 4
}
