{
 "cells": [
  {
   "cell_type": "code",
   "execution_count": 3,
   "metadata": {},
   "outputs": [
    {
     "data": {
      "image/png": "[encoded data removed]",
      "text/plain": [
       "<Figure size 432x288 with 1 Axes>"
      ]
     },
     "metadata": {
      "needs_background": "light"
     },
     "output_type": "display_data"
    }
   ],
   "source": [
    "import matplotlib.pyplot as plt\n",
    "\n",
    "class AddBorder:\n",
    "    \n",
    "    def add_blue_border(self):\n",
    "        \"\"\"\n",
    "        function to display a bar chart of the popularity of \n",
    "        programming Languages. Make blue border to each bar. \n",
    "        \"\"\"\n",
    "        programming_languages = ['Java', 'Python', 'PHP', 'JavaScript', 'C#', 'C++']\n",
    "        popularity = [22.2, 17.6, 8.8, 8, 7.7, 6.7]\n",
    "        plt.bar(programming_languages, popularity, color = ['hotpink', 'cadetblue', 'salmon', 'olive', 'peru', 'orchid'], edgecolor = 'blue') # passed color argument\n",
    "        plt.xlabel(\"Programming Languages\")\n",
    "        plt.ylabel(\"Popularity\")\n",
    "        plt.title(\"Bar Chart with Blue Color Border\")\n",
    "        plt.show()\n",
    "\n",
    "        \n",
    "if __name__ == \"__main__\":\n",
    "    Border = AddBorder()\n",
    "    Border.add_blue_border()"
   ]
  },
  {
   "cell_type": "code",
   "execution_count": null,
   "metadata": {},
   "outputs": [],
   "source": []
  }
 ],
 "metadata": {
  "kernelspec": {
   "display_name": "Python 3",
   "language": "python",
   "name": "python3"
  },
  "language_info": {
   "codemirror_mode": {
    "name": "ipython",
    "version": 3
   },
   "file_extension": ".py",
   "mimetype": "text/x-python",
   "name": "python",
   "nbconvert_exporter": "python",
   "pygments_lexer": "ipython3",
   "version": "3.7.6"
  }
 },
 "nbformat": 4,
 "nbformat_minor": 4
}
