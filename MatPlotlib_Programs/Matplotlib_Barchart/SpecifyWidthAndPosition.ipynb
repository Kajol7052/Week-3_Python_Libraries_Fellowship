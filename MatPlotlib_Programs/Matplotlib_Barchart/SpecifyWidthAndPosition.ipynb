{
 "cells": [
  {
   "cell_type": "code",
   "execution_count": 7,
   "metadata": {},
   "outputs": [
    {
     "data": {
      "image/png": "[encoded data removed]",
      "text/plain": [
       "<Figure size 432x288 with 1 Axes>"
      ]
     },
     "metadata": {
      "needs_background": "light"
     },
     "output_type": "display_data"
    }
   ],
   "source": [
    "import matplotlib.pyplot as plt\n",
    "\n",
    "class SpecifyWidthAndPosition:\n",
    "    \n",
    "    def specify_width_and_position_of_each_bar(self):\n",
    "        \"\"\"\n",
    "        function to display a bar chart of the popularity of programming \n",
    "        Languages. Select the width of each bar and their positions.\n",
    "        \"\"\"\n",
    "        programming_languages = ['Java', 'Python', 'PHP', 'JavaScript', 'C#', 'C++']\n",
    "        popularity = [22.2, 17.6, 8.8, 8, 7.7, 6.7]\n",
    "        position = [2,5,7,10,14,15]\n",
    "        new_width = [0.2,0.5,1.5,1.0,0.6,0.4]\n",
    "        plt.bar(position, popularity, width = new_width)\n",
    "        plt.xlabel(\"Programming Languages\")\n",
    "        plt.ylabel(\"Popularity\")\n",
    "        plt.title(\"Specify Width and Position of each Bar Plot\")\n",
    "        plt.show()\n",
    "\n",
    "        \n",
    "if __name__ == \"__main__\":\n",
    "    WidthPosition = SpecifyWidthAndPosition()\n",
    "    WidthPosition.specify_width_and_position_of_each_bar()"
   ]
  },
  {
   "cell_type": "code",
   "execution_count": null,
   "metadata": {},
   "outputs": [],
   "source": []
  }
 ],
 "metadata": {
  "kernelspec": {
   "display_name": "Python 3",
   "language": "python",
   "name": "python3"
  },
  "language_info": {
   "codemirror_mode": {
    "name": "ipython",
    "version": 3
   },
   "file_extension": ".py",
   "mimetype": "text/x-python",
   "name": "python",
   "nbconvert_exporter": "python",
   "pygments_lexer": "ipython3",
   "version": "3.7.6"
  }
 },
 "nbformat": 4,
 "nbformat_minor": 4
}
