{
 "cells": [
  {
   "cell_type": "code",
   "execution_count": 7,
   "metadata": {},
   "outputs": [
    {
     "data": {
      "image/png": "[encoded data removed]",
      "text/plain": [
       "<Figure size 432x288 with 1 Axes>"
      ]
     },
     "metadata": {
      "needs_background": "light"
     },
     "output_type": "display_data"
    }
   ],
   "source": [
    "import matplotlib.pyplot as plt\n",
    "import numpy as np\n",
    "import pandas as pd\n",
    "\n",
    "class BarPlot:\n",
    "    \n",
    "    def bar_plot_from_dataframe(self):\n",
    "        \"\"\"\n",
    "        function to create bar plot from a DataFrame\n",
    "        \"\"\"\n",
    "        my_array = np.array([[4,8,5,7,6],[2,3,4,2,6],[4,7,4,7,8],[2,6,4,8,6],[2,4,3,3,2]])\n",
    "        dataframe = pd.DataFrame(my_array, columns=['a','b','c','d','e'], index=[2,4,6,8,10])\n",
    "        dataframe.plot(kind='bar')\n",
    "        plt.title(\"Created Bar plot from Dataframe\")\n",
    "        plt.show()\n",
    "        \n",
    "if __name__ == \"__main__\":\n",
    "    Bar = BarPlot()\n",
    "    Bar.bar_plot_from_dataframe()\n",
    "    "
   ]
  },
  {
   "cell_type": "code",
   "execution_count": null,
   "metadata": {},
   "outputs": [],
   "source": []
  }
 ],
 "metadata": {
  "kernelspec": {
   "display_name": "Python 3",
   "language": "python",
   "name": "python3"
  },
  "language_info": {
   "codemirror_mode": {
    "name": "ipython",
    "version": 3
   },
   "file_extension": ".py",
   "mimetype": "text/x-python",
   "name": "python",
   "nbconvert_exporter": "python",
   "pygments_lexer": "ipython3",
   "version": "3.7.6"
  }
 },
 "nbformat": 4,
 "nbformat_minor": 4
}
