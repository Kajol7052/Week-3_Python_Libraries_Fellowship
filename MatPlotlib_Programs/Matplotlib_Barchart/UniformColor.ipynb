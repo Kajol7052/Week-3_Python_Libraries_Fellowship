{
 "cells": [
  {
   "cell_type": "code",
   "execution_count": 4,
   "metadata": {},
   "outputs": [
    {
     "data": {
      "image/png": "[encoded data removed]",
      "text/plain": [
       "<Figure size 432x288 with 1 Axes>"
      ]
     },
     "metadata": {
      "needs_background": "light"
     },
     "output_type": "display_data"
    }
   ],
   "source": [
    "import matplotlib.pyplot as plt\n",
    "\n",
    "class ColorUniform:\n",
    "    \n",
    "    def display_uniform_color_bar_chart(self):\n",
    "        \"\"\"\n",
    "        function to display a bar chart of the popularity\n",
    "        of programming Languages. Use uniform color. \n",
    "        \"\"\"\n",
    "        programming_languages = ['Java', 'Python', 'PHP', 'JavaScript', 'C#', 'C++']\n",
    "        popularity = [22.2, 17.6, 8.8, 8, 7.7, 6.7]\n",
    "        plt.bar(programming_languages, popularity, color = 'cadetblue') # passed color argument\n",
    "        plt.xlabel(\"Programming Languages\")\n",
    "        plt.ylabel(\"Popularity\")\n",
    "        plt.title(\"Bar Chart with Uniform Color\")\n",
    "        plt.show()\n",
    "\n",
    "        \n",
    "if __name__ == \"__main__\":\n",
    "    Color = ColorUniform()\n",
    "    Color.display_uniform_color_bar_chart()"
   ]
  },
  {
   "cell_type": "code",
   "execution_count": null,
   "metadata": {},
   "outputs": [],
   "source": []
  }
 ],
 "metadata": {
  "kernelspec": {
   "display_name": "Python 3",
   "language": "python",
   "name": "python3"
  },
  "language_info": {
   "codemirror_mode": {
    "name": "ipython",
    "version": 3
   },
   "file_extension": ".py",
   "mimetype": "text/x-python",
   "name": "python",
   "nbconvert_exporter": "python",
   "pygments_lexer": "ipython3",
   "version": "3.7.6"
  }
 },
 "nbformat": 4,
 "nbformat_minor": 4
}
