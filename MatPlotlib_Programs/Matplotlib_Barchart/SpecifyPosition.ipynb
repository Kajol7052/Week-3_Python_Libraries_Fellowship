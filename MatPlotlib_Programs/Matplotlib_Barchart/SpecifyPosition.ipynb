{
 "cells": [
  {
   "cell_type": "code",
   "execution_count": 24,
   "metadata": {},
   "outputs": [
    {
     "data": {
      "image/png": "[encoded data removed]",
      "text/plain": [
       "<Figure size 432x288 with 1 Axes>"
      ]
     },
     "metadata": {
      "needs_background": "light"
     },
     "output_type": "display_data"
    }
   ],
   "source": [
    "import matplotlib.pyplot as plt\n",
    "\n",
    "class SpecifyPosition:\n",
    "    \n",
    "    def specify_position_of_each_bar(self):\n",
    "        \"\"\"\n",
    "        function to display a bar chart of the popularity of programming \n",
    "        Languages. Specify the position of each bar plot.\n",
    "        \"\"\"\n",
    "        programming_languages = ['Java', 'Python', 'PHP', 'JavaScript', 'C#', 'C++']\n",
    "        popularity = [22.2, 17.6, 8.8, 8, 7.7, 6.7]\n",
    "        position = [2,5,7,10,14,15]\n",
    "        plt.bar(position, popularity)\n",
    "        #plt.bar(programming_languages, position)\n",
    "        #plt.bar(programming_languages, popularity, color = ['hotpink', 'cadetblue', 'salmon', 'olive', 'peru', 'orchid'], edgecolor = 'blue') # passed color argument\n",
    "        plt.xlabel(\"Programming Languages\")\n",
    "        plt.ylabel(\"Popularity\")\n",
    "        plt.title(\"Specify Position of each Bar Plot\")\n",
    "        plt.show()\n",
    "\n",
    "        \n",
    "if __name__ == \"__main__\":\n",
    "    Position = SpecifyPosition()\n",
    "    Position.specify_position_of_each_bar()"
   ]
  },
  {
   "cell_type": "code",
   "execution_count": null,
   "metadata": {},
   "outputs": [],
   "source": []
  },
  {
   "cell_type": "code",
   "execution_count": null,
   "metadata": {},
   "outputs": [],
   "source": []
  },
  {
   "cell_type": "code",
   "execution_count": null,
   "metadata": {},
   "outputs": [],
   "source": []
  }
 ],
 "metadata": {
  "kernelspec": {
   "display_name": "Python 3",
   "language": "python",
   "name": "python3"
  },
  "language_info": {
   "codemirror_mode": {
    "name": "ipython",
    "version": 3
   },
   "file_extension": ".py",
   "mimetype": "text/x-python",
   "name": "python",
   "nbconvert_exporter": "python",
   "pygments_lexer": "ipython3",
   "version": "3.7.6"
  }
 },
 "nbformat": 4,
 "nbformat_minor": 4
}
