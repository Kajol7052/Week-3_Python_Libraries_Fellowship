{
 "cells": [
  {
   "cell_type": "code",
   "execution_count": 2,
   "metadata": {},
   "outputs": [
    {
     "data": {
      "image/png": "[encoded data removed]",
      "text/plain": [
       "<Figure size 432x288 with 1 Axes>"
      ]
     },
     "metadata": {
      "needs_background": "light"
     },
     "output_type": "display_data"
    }
   ],
   "source": [
    "import matplotlib.pyplot as plt\n",
    "import numpy as np\n",
    "\n",
    "class MultipleBar:\n",
    "    \n",
    "    def multiple_bar_plots(self):\n",
    "        \"\"\"\n",
    "        function to create bar plot of scores by group and gender. \n",
    "        Use multiple X values on the same chart for men and women \n",
    "        \"\"\"\n",
    "        n = 5\n",
    "        men = (22, 30, 33, 30, 26)\n",
    "        women = (25, 32, 30, 35, 29)\n",
    "        \n",
    "        index = np.arange(n)\n",
    "        bar_width = 0.4\n",
    "\n",
    "        bar1 = plt.bar(index, men, bar_width, color='cadetblue', label = 'Men')\n",
    "        bar2 = plt.bar(index + bar_width, women, bar_width, color = 'peru', label = 'Women')\n",
    "\n",
    "        plt.xlabel('People')\n",
    "        plt.ylabel('Scores')\n",
    "        plt.title('Scores by people')\n",
    "        plt.xticks(index+bar_width, ('P1', 'P2', 'P3', 'P4', 'P5'))\n",
    "        plt.legend()\n",
    "\n",
    "        plt.tight_layout()\n",
    "        plt.show()\n",
    "\n",
    "        \n",
    "if __name__ == \"__main__\":\n",
    "    Bar = MultipleBar()\n",
    "    Bar.multiple_bar_plots()"
   ]
  },
  {
   "cell_type": "code",
   "execution_count": null,
   "metadata": {},
   "outputs": [],
   "source": []
  },
  {
   "cell_type": "code",
   "execution_count": null,
   "metadata": {},
   "outputs": [],
   "source": []
  }
 ],
 "metadata": {
  "kernelspec": {
   "display_name": "Python 3",
   "language": "python",
   "name": "python3"
  },
  "language_info": {
   "codemirror_mode": {
    "name": "ipython",
    "version": 3
   },
   "file_extension": ".py",
   "mimetype": "text/x-python",
   "name": "python",
   "nbconvert_exporter": "python",
   "pygments_lexer": "ipython3",
   "version": "3.7.6"
  }
 },
 "nbformat": 4,
 "nbformat_minor": 4
}
