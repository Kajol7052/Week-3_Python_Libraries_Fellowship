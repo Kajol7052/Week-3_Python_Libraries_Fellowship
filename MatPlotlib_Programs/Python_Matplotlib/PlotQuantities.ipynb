{
 "cells": [
  {
   "cell_type": "code",
   "execution_count": 5,
   "metadata": {},
   "outputs": [
    {
     "data": {
      "image/png": "[encoded data removed]",
      "text/plain": [
       "<Figure size 432x288 with 1 Axes>"
      ]
     },
     "metadata": {
      "needs_background": "light"
     },
     "output_type": "display_data"
    }
   ],
   "source": [
    "import matplotlib.pyplot as plt\n",
    "\n",
    "class PlotQuantities:\n",
    "    \n",
    "    def plot_quantities(self):\n",
    "        \"\"\"\n",
    "        function to plot quantities which\n",
    "        have an x and y position\n",
    "        \"\"\"\n",
    "        x1 =  [1, 2, 3]\n",
    "        y1 =  [2, 4, 1]\n",
    "        x2 =  [1, 2, 3]\n",
    "        y2 =  [2.5, 2.5, 2.5]\n",
    "        x3 =  [1, 2, 3]\n",
    "        y3 =  [4, 1, 3]\n",
    "        x4 =  [1, 2, 3]\n",
    "        y4 =  [3, 3, 3]\n",
    "        plt.plot(x1, y1, 'or', x2, y2, '*b', x3, y3, '^k', x4, y4, 'sy') # marker and color\n",
    "        plt.axis([0,4,0,8])\n",
    "        plt.xlabel('x-axis') # set x-axis label \n",
    "        plt.ylabel('y-axis') # set y-axis label\n",
    "        plt.title('Plot different quantities') # set title\n",
    "        plt.show() # display figure/graph\n",
    "\n",
    "        \n",
    "if __name__ == \"__main__\":\n",
    "    Plot = PlotQuantities()\n",
    "    Plot.plot_quantities()"
   ]
  },
  {
   "cell_type": "code",
   "execution_count": null,
   "metadata": {},
   "outputs": [],
   "source": []
  }
 ],
 "metadata": {
  "kernelspec": {
   "display_name": "Python 3",
   "language": "python",
   "name": "python3"
  },
  "language_info": {
   "codemirror_mode": {
    "name": "ipython",
    "version": 3
   },
   "file_extension": ".py",
   "mimetype": "text/x-python",
   "name": "python",
   "nbconvert_exporter": "python",
   "pygments_lexer": "ipython3",
   "version": "3.7.6"
  }
 },
 "nbformat": 4,
 "nbformat_minor": 4
}
