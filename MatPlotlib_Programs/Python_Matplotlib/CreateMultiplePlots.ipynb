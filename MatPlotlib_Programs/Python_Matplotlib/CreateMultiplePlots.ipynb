{
 "cells": [
  {
   "cell_type": "code",
   "execution_count": 38,
   "metadata": {},
   "outputs": [
    {
     "data": {
      "image/png": "[encoded data removed]",
      "text/plain": [
       "<Figure size 432x288 with 6 Axes>"
      ]
     },
     "metadata": {},
     "output_type": "display_data"
    }
   ],
   "source": [
    "import matplotlib.pyplot as plt\n",
    "class MultiplePlots:\n",
    "    \n",
    "    def create_multiple_plots(self):\n",
    "        \"\"\"\n",
    "        function to create multiple plots\n",
    "        \"\"\"\n",
    "        \n",
    "        plt.subplot(2, 3, 1)\n",
    "        plt.xticks(()),plt.yticks(())\n",
    "\n",
    "        plt.subplot(2, 3, 2)\n",
    "        plt.xticks(()),plt.yticks(())\n",
    "\n",
    "        plt.subplot(2, 3, 3)\n",
    "        plt.xticks(()),plt.yticks(())\n",
    "\n",
    "        plt.subplot(2, 3, 4)\n",
    "        plt.xticks(()),plt.yticks(())\n",
    "        \n",
    "        plt.subplot(2, 3, 5)\n",
    "        plt.xticks(()),plt.yticks(())\n",
    "\n",
    "        plt.subplot(2, 3, 6)\n",
    "        plt.xticks(()),plt.yticks(())\n",
    "        \n",
    "\n",
    "        plt.show()\n",
    "\n",
    "        \n",
    "if __name__ == \"__main__\":\n",
    "    Plots = MultiplePlots()\n",
    "    Plots.create_multiple_plots()"
   ]
  },
  {
   "cell_type": "code",
   "execution_count": null,
   "metadata": {},
   "outputs": [],
   "source": []
  },
  {
   "cell_type": "code",
   "execution_count": null,
   "metadata": {},
   "outputs": [],
   "source": []
  }
 ],
 "metadata": {
  "kernelspec": {
   "display_name": "Python 3",
   "language": "python",
   "name": "python3"
  },
  "language_info": {
   "codemirror_mode": {
    "name": "ipython",
    "version": 3
   },
   "file_extension": ".py",
   "mimetype": "text/x-python",
   "name": "python",
   "nbconvert_exporter": "python",
   "pygments_lexer": "ipython3",
   "version": "3.7.6"
  }
 },
 "nbformat": 4,
 "nbformat_minor": 4
}
