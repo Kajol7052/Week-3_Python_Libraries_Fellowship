{
 "cells": [
  {
   "cell_type": "code",
   "execution_count": 18,
   "metadata": {},
   "outputs": [
    {
     "name": "stdout",
     "output_type": "stream",
     "text": [
      "Addition of two Panda series is:\n",
      " 0     3\n",
      "1     7\n",
      "2    11\n",
      "3    15\n",
      "4    19\n",
      "dtype: int64\n",
      "Subtraction of two Panda series is:\n",
      " 0    1\n",
      "1    1\n",
      "2    1\n",
      "3    1\n",
      "4    1\n",
      "dtype: int64\n",
      "Multiplication of two Panda series is\n",
      " 0     2\n",
      "1    12\n",
      "2    30\n",
      "3    56\n",
      "4    90\n",
      "dtype: int64\n",
      "Division of two Panda series is:\n",
      " 0    2.000000\n",
      "1    1.333333\n",
      "2    1.200000\n",
      "3    1.142857\n",
      "4    1.111111\n",
      "dtype: float64\n"
     ]
    }
   ],
   "source": [
    "import pandas as pd \n",
    "  \n",
    "class MathematicalOperations:\n",
    "    \n",
    "    def calculate_mathematical_operations(self):\n",
    "        \"\"\"\n",
    "        function to add, subtract, multiple \n",
    "        and divide two Pandas Series\n",
    "        \"\"\"\n",
    "        my_dataset1 = pd.Series([2, 4, 6, 8, 10])\n",
    "        my_dataset2 = pd.Series([1, 3, 5, 7, 9])\n",
    "        new_dataset = my_dataset1 + my_dataset2 \n",
    "        print(\"Addition of two Panda series is:\\n\",new_dataset)\n",
    "        new_dataset = my_dataset1 - my_dataset2\n",
    "        print(\"Subtraction of two Panda series is:\\n\",new_dataset)\n",
    "        new_dataset = my_dataset1 * my_dataset2\n",
    "        print(\"Multiplication of two Panda series is\\n\",new_dataset)\n",
    "        new_dataset = my_dataset1 / my_dataset2\n",
    "        print(\"Division of two Panda series is:\\n\",new_dataset)\n",
    "        \n",
    "        \n",
    "if __name__ == \"__main__\":\n",
    "    Operations = MathematicalOperations()\n",
    "    Operations.calculate_mathematical_operations()"
   ]
  },
  {
   "cell_type": "code",
   "execution_count": null,
   "metadata": {},
   "outputs": [],
   "source": []
  },
  {
   "cell_type": "code",
   "execution_count": null,
   "metadata": {},
   "outputs": [],
   "source": []
  }
 ],
 "metadata": {
  "kernelspec": {
   "display_name": "Python 3",
   "language": "python",
   "name": "python3"
  },
  "language_info": {
   "codemirror_mode": {
    "name": "ipython",
    "version": 3
   },
   "file_extension": ".py",
   "mimetype": "text/x-python",
   "name": "python",
   "nbconvert_exporter": "python",
   "pygments_lexer": "ipython3",
   "version": "3.7.6"
  }
 },
 "nbformat": 4,
 "nbformat_minor": 4
}
