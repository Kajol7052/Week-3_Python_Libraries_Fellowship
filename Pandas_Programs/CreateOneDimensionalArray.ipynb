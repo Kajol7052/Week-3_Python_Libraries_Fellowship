{
 "cells": [
  {
   "cell_type": "code",
   "execution_count": 9,
   "metadata": {},
   "outputs": [
    {
     "name": "stdout",
     "output_type": "stream",
     "text": [
      "Series of data is: \n",
      " 0    10\n",
      "1    20\n",
      "2    30\n",
      "3    40\n",
      "4    50\n",
      "dtype: int64\n"
     ]
    }
   ],
   "source": [
    "import pandas as pd \n",
    "  \n",
    "class CreateArrayData:\n",
    "    \n",
    "    def create_and_display_array(self):\n",
    "        \"\"\"\n",
    "        function to create and display a one-dimensional array-like\n",
    "        object containing an array of data using Pandas module\n",
    "        \"\"\"\n",
    "        my_dataset = pd.Series([10, 20, 30, 40, 50])\n",
    "        print(\"Series of data is: \\n\", my_dataset)\n",
    "        \n",
    "if __name__ == \"__main__\":\n",
    "    DataSet = CreateArrayData()\n",
    "    DataSet.create_and_display_array()"
   ]
  }
 ],
 "metadata": {
  "kernelspec": {
   "display_name": "Python 3",
   "language": "python",
   "name": "python3"
  },
  "language_info": {
   "codemirror_mode": {
    "name": "ipython",
    "version": 3
   },
   "file_extension": ".py",
   "mimetype": "text/x-python",
   "name": "python",
   "nbconvert_exporter": "python",
   "pygments_lexer": "ipython3",
   "version": "3.7.6"
  }
 },
 "nbformat": 4,
 "nbformat_minor": 4
}
