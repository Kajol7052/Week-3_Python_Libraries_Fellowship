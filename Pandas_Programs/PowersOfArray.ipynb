{
 "cells": [
  {
   "cell_type": "code",
   "execution_count": 2,
   "metadata": {},
   "outputs": [
    {
     "name": "stdout",
     "output_type": "stream",
     "text": [
      "Original array is:\n",
      " [0 1 2 3 4 5 6]\n",
      "Powers of array elements is:\n",
      " [  0   1   8  27  64 125 216]\n"
     ]
    }
   ],
   "source": [
    "import numpy as np\n",
    "  \n",
    "class Powers:\n",
    "    \n",
    "    def powers_of_array_values(self):\n",
    "        \"\"\"\n",
    "        function to get the powers of \n",
    "        an array values element-wise\n",
    "        \"\"\"\n",
    "        my_dataset = np.arange(7)\n",
    "        print(\"Original array is:\\n\", my_dataset)\n",
    "        print(\"Powers of array elements is:\\n\", np.power(my_dataset,3))\n",
    "        \n",
    "        \n",
    "if __name__ == \"__main__\":\n",
    "    ArrayPowers = Powers()\n",
    "    ArrayPowers.powers_of_array_values()"
   ]
  },
  {
   "cell_type": "code",
   "execution_count": null,
   "metadata": {},
   "outputs": [],
   "source": []
  }
 ],
 "metadata": {
  "kernelspec": {
   "display_name": "Python 3",
   "language": "python",
   "name": "python3"
  },
  "language_info": {
   "codemirror_mode": {
    "name": "ipython",
    "version": 3
   },
   "file_extension": ".py",
   "mimetype": "text/x-python",
   "name": "python",
   "nbconvert_exporter": "python",
   "pygments_lexer": "ipython3",
   "version": "3.7.6"
  }
 },
 "nbformat": 4,
 "nbformat_minor": 4
}
