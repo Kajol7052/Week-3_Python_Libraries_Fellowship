{
 "cells": [
  {
   "cell_type": "code",
   "execution_count": 8,
   "metadata": {},
   "outputs": [
    {
     "name": "stdout",
     "output_type": "stream",
     "text": [
      "Original dataframe is:\n",
      "         name  score  attempts qualify\n",
      "a  Anastasia   12.5         1     yes\n",
      "b       Dima    9.0         3      no\n",
      "c  Katherine   16.5         2     yes\n",
      "d      James    NaN         3      no\n",
      "e      Emily    9.0         2      no\n",
      "f    Michael   20.0         3     yes\n",
      "g    Matthew   14.5         1     yes\n",
      "h      Laura    NaN         1      no\n",
      "i      Kevin    8.0         2      no\n",
      "j      Jonas   19.0         1     yes\n",
      "Number of rows is : 10 \n",
      "Number of columns is : 4 \n",
      "Shape of Dataframe is : (10, 4)\n"
     ]
    }
   ],
   "source": [
    "import pandas as pd \n",
    "import numpy as np\n",
    "  \n",
    "class CountRowsAndCols:\n",
    "    \n",
    "    def count_rows_and_cols(self):\n",
    "        \"\"\"\n",
    "        function to count the number of \n",
    "        rows and columns of a DataFrame\n",
    "        \"\"\"\n",
    "        exam_data  = {'name': ['Anastasia', 'Dima', 'Katherine', 'James', 'Emily', 'Michael', 'Matthew', 'Laura', 'Kevin', 'Jonas'],\n",
    "                      'score': [12.5, 9, 16.5, np.nan, 9, 20, 14.5, np.nan, 8, 19],\n",
    "                      'attempts': [1, 3, 2, 3, 2, 3, 1, 1, 2, 1],\n",
    "                      'qualify': ['yes', 'no', 'yes', 'no', 'no', 'yes', 'yes', 'no', 'no', 'yes']}\n",
    "        labels = ['a', 'b', 'c', 'd', 'e', 'f', 'g', 'h', 'i', 'j']\n",
    "        my_dataset = pd.DataFrame(exam_data, index=labels)\n",
    "        print(\"Original dataframe is:\\n\", my_dataset)\n",
    "        rows, columns = len(my_dataset.axes[0]), len(my_dataset.axes[1])\n",
    "        print(\"Number of rows is :\",rows,\"\\nNumber of columns is :\",columns)\n",
    "        #rows, columns = my_dataset.shape[0], my_dataset.shape[1]\n",
    "        #print(\"Number of rows is :\",rows,\"\\nNumber of columns is :\",columns,\"\\nShape of Dataframe is :\",my_dataset.shape)\n",
    "        \n",
    "if __name__ == \"__main__\":\n",
    "    Count = CountRowsAndCols()\n",
    "    Count.count_rows_and_cols()"
   ]
  },
  {
   "cell_type": "code",
   "execution_count": null,
   "metadata": {},
   "outputs": [],
   "source": []
  }
 ],
 "metadata": {
  "kernelspec": {
   "display_name": "Python 3",
   "language": "python",
   "name": "python3"
  },
  "language_info": {
   "codemirror_mode": {
    "name": "ipython",
    "version": 3
   },
   "file_extension": ".py",
   "mimetype": "text/x-python",
   "name": "python",
   "nbconvert_exporter": "python",
   "pygments_lexer": "ipython3",
   "version": "3.7.6"
  }
 },
 "nbformat": 4,
 "nbformat_minor": 4
}
