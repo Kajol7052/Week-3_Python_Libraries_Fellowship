{
 "cells": [
  {
   "cell_type": "code",
   "execution_count": 5,
   "metadata": {},
   "outputs": [
    {
     "name": "stdout",
     "output_type": "stream",
     "text": [
      "After getting first 3 rows, the dataframe is:\n",
      "         name  score  attempts qualify\n",
      "a  Anastasia   12.5         1     yes\n",
      "b       Dima    9.0         3      no\n",
      "c  Katherine   16.5         2     yes\n"
     ]
    }
   ],
   "source": [
    "import pandas as pd\n",
    "import numpy as np\n",
    "  \n",
    "class GetRow:\n",
    "    \n",
    "    def get_first_three_rows(self):\n",
    "        \"\"\"\n",
    "        function to get the first 3 \n",
    "        rows of a given DataFrame\n",
    "        \"\"\"\n",
    "        exam_data  = {'name': ['Anastasia', 'Dima', 'Katherine', 'James', 'Emily', 'Michael', 'Matthew', 'Laura', 'Kevin', 'Jonas'],\n",
    "                      'score': [12.5, 9, 16.5, np.nan, 9, 20, 14.5, np.nan, 8, 19],\n",
    "                      'attempts': [1, 3, 2, 3, 2, 3, 1, 1, 2, 1],\n",
    "                      'qualify': ['yes', 'no', 'yes', 'no', 'no', 'yes', 'yes', 'no', 'no', 'yes']}\n",
    "        labels = ['a', 'b', 'c', 'd', 'e', 'f', 'g', 'h', 'i', 'j']\n",
    "        my_dataset = pd.DataFrame(exam_data, index=labels)\n",
    "        print(\"After getting first 3 rows, the dataframe is:\\n\",my_dataset.head(3)) # head() methods returns the specified no. of rows\n",
    "        #print(\"After getting first 3 rows, the dataframe is:\\n\",my_dataset.iloc[:3]) # if indices are not numbers then we cant slice DF then we need to use iloc() to slice our pandas DF\n",
    "        \n",
    "if __name__ == \"__main__\":\n",
    "    Rows = GetRow()\n",
    "    Rows.get_first_three_rows()"
   ]
  },
  {
   "cell_type": "code",
   "execution_count": null,
   "metadata": {},
   "outputs": [],
   "source": []
  }
 ],
 "metadata": {
  "kernelspec": {
   "display_name": "Python 3",
   "language": "python",
   "name": "python3"
  },
  "language_info": {
   "codemirror_mode": {
    "name": "ipython",
    "version": 3
   },
   "file_extension": ".py",
   "mimetype": "text/x-python",
   "name": "python",
   "nbconvert_exporter": "python",
   "pygments_lexer": "ipython3",
   "version": "3.7.6"
  }
 },
 "nbformat": 4,
 "nbformat_minor": 4
}
