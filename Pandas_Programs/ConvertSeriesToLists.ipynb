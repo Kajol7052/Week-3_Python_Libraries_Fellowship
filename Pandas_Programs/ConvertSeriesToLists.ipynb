{
 "cells": [
  {
   "cell_type": "code",
   "execution_count": 11,
   "metadata": {},
   "outputs": [
    {
     "name": "stdout",
     "output_type": "stream",
     "text": [
      "Pandas modules series and its type is:\n",
      " 0    10\n",
      "1    20\n",
      "2    30\n",
      "3    40\n",
      "4    50\n",
      "dtype: int64 \n",
      " <class 'pandas.core.series.Series'>\n",
      "\n",
      "After coverting pandas series to python Lists is:\n",
      " [10, 20, 30, 40, 50] \n",
      " <class 'list'>\n"
     ]
    }
   ],
   "source": [
    "import pandas as pd \n",
    "  \n",
    "class ConvertToLists:\n",
    "    \n",
    "    def convert_series_to_lists(self):\n",
    "        \"\"\"\n",
    "        function to convert a Panda module\n",
    "        Series to Python list and it's type\n",
    "        \"\"\"\n",
    "        my_dataset = pd.Series([10, 20, 30, 40, 50])\n",
    "        print(\"Pandas modules series and its type is:\\n\",my_dataset,\"\\n\",type(my_dataset))\n",
    "        print(\"\\nAfter coverting pandas series to python Lists is:\\n\",my_dataset.tolist(),\"\\n\",type(my_dataset.tolist()))\n",
    "        \n",
    "if __name__ == \"__main__\":\n",
    "    Conversion = ConvertToLists()\n",
    "    Conversion.convert_series_to_lists()"
   ]
  },
  {
   "cell_type": "code",
   "execution_count": null,
   "metadata": {},
   "outputs": [],
   "source": []
  }
 ],
 "metadata": {
  "kernelspec": {
   "display_name": "Python 3",
   "language": "python",
   "name": "python3"
  },
  "language_info": {
   "codemirror_mode": {
    "name": "ipython",
    "version": 3
   },
   "file_extension": ".py",
   "mimetype": "text/x-python",
   "name": "python",
   "nbconvert_exporter": "python",
   "pygments_lexer": "ipython3",
   "version": "3.7.6"
  }
 },
 "nbformat": 4,
 "nbformat_minor": 4
}
