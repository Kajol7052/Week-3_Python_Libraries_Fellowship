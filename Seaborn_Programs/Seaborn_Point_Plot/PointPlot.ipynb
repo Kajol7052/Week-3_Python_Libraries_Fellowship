{
 "cells": [
  {
   "cell_type": "markdown",
   "metadata": {},
   "source": [
    "###### Program to draw a point plot for sex against survived for a dataset"
   ]
  },
  {
   "cell_type": "code",
   "execution_count": 17,
   "metadata": {},
   "outputs": [
    {
     "data": {
      "image/png": "[encoded data removed]",
      "text/plain": [
       "<Figure size 432x288 with 1 Axes>"
      ]
     },
     "metadata": {
      "needs_background": "light"
     },
     "output_type": "display_data"
    }
   ],
   "source": [
    "import pandas as pd\n",
    "import numpy as np\n",
    "import matplotlib.pyplot as plt\n",
    "import seaborn as sns\n",
    "\n",
    "class SeaBornPointPlot:\n",
    "    \n",
    "    def draw_point_plot(self):\n",
    "        \"\"\"\n",
    "        function to draw a point plot for \n",
    "        sex against survived for a dataset\n",
    "        \"\"\"\n",
    "        titanic_dataset = sns.load_dataset('titanic')\n",
    "        sns.pointplot(x='sex', y='survived', markers='^', color='r', linestyles='-.', data=titanic_dataset)\n",
    "        plt.show()\n",
    "        \n",
    "if __name__ == \"__main__\" :\n",
    "    Point = SeaBornPointPlot()\n",
    "    Point.draw_point_plot()\n",
    "# This method is used to show point estimates and confidence intervals using scatter plot glyphs. A point plot represents an estimate of central tendency for a numeric variable by the position of scatter plot points and provides some indication of the uncertainty around that estimate using error bars."
   ]
  },
  {
   "cell_type": "code",
   "execution_count": null,
   "metadata": {},
   "outputs": [],
   "source": []
  },
  {
   "cell_type": "code",
   "execution_count": null,
   "metadata": {},
   "outputs": [],
   "source": []
  }
 ],
 "metadata": {
  "kernelspec": {
   "display_name": "Python 3",
   "language": "python",
   "name": "python3"
  },
  "language_info": {
   "codemirror_mode": {
    "name": "ipython",
    "version": 3
   },
   "file_extension": ".py",
   "mimetype": "text/x-python",
   "name": "python",
   "nbconvert_exporter": "python",
   "pygments_lexer": "ipython3",
   "version": "3.7.6"
  }
 },
 "nbformat": 4,
 "nbformat_minor": 4
}
