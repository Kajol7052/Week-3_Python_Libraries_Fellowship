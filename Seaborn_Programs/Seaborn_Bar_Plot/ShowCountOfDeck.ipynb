{
 "cells": [
  {
   "cell_type": "markdown",
   "metadata": {},
   "source": [
    "###### Program to draw a barplot to show count for a deck for a given dataset "
   ]
  },
  {
   "cell_type": "code",
   "execution_count": 3,
   "metadata": {},
   "outputs": [
    {
     "data": {
      "image/png": "[encoded data removed]",
      "text/plain": [
       "<Figure size 432x288 with 1 Axes>"
      ]
     },
     "metadata": {
      "needs_background": "light"
     },
     "output_type": "display_data"
    }
   ],
   "source": [
    "import pandas as pd\n",
    "import numpy as np\n",
    "import matplotlib.pyplot as plt\n",
    "import seaborn as sns\n",
    "\n",
    "class CountPlot:\n",
    "    \n",
    "    def show_count_for_deck(self):\n",
    "        \"\"\"\n",
    "        function to draw a countplot to show count\n",
    "        for a deck for a given dataset\n",
    "        \"\"\"\n",
    "        titanic_dataset = sns.load_dataset('titanic')\n",
    "        sns.countplot(x='deck', data=titanic_dataset)\n",
    "        \n",
    "if __name__ == \"__main__\" :\n",
    "    SeabornCount = CountPlot()\n",
    "    SeabornCount.show_count_for_deck()\n",
    "#The count plot is similar to the bar plot, however it displays the count of the categories in a specific column."
   ]
  },
  {
   "cell_type": "code",
   "execution_count": null,
   "metadata": {},
   "outputs": [],
   "source": []
  }
 ],
 "metadata": {
  "kernelspec": {
   "display_name": "Python 3",
   "language": "python",
   "name": "python3"
  },
  "language_info": {
   "codemirror_mode": {
    "name": "ipython",
    "version": 3
   },
   "file_extension": ".py",
   "mimetype": "text/x-python",
   "name": "python",
   "nbconvert_exporter": "python",
   "pygments_lexer": "ipython3",
   "version": "3.7.6"
  }
 },
 "nbformat": 4,
 "nbformat_minor": 4
}
