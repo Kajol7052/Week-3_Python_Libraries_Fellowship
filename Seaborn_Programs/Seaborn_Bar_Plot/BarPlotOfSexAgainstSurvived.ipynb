{
 "cells": [
  {
   "cell_type": "markdown",
   "metadata": {},
   "source": [
    "###### Program to draw bar plot of sex against survived for a given dataset."
   ]
  },
  {
   "cell_type": "code",
   "execution_count": 19,
   "metadata": {},
   "outputs": [
    {
     "data": {
      "image/png": "[encoded data removed]",
      "text/plain": [
       "<Figure size 432x288 with 1 Axes>"
      ]
     },
     "metadata": {
      "needs_background": "light"
     },
     "output_type": "display_data"
    }
   ],
   "source": [
    "import pandas as pd\n",
    "import numpy as np\n",
    "import matplotlib.pyplot as plt\n",
    "import seaborn as sns\n",
    "\n",
    "class BarPlot:\n",
    "    \n",
    "    def bar_plot_of_sex_against_survived(self):\n",
    "        \"\"\"\n",
    "        function to draw bar plot \n",
    "        of sex against survived\n",
    "        \"\"\"\n",
    "        titanic_dataset = sns.load_dataset('titanic')\n",
    "        sns.barplot(x='sex', y='survived', data=titanic_dataset, errcolor='0.8')\n",
    "        \n",
    "if __name__ == \"__main__\" :\n",
    "    SeabornBar = BarPlot()\n",
    "    SeabornBar.bar_plot_of_sex_against_survived()\n",
    "\n",
    "#A bar plot represents an estimate of central tendency for a numeric variable with the height of each rectangle and provides some indication of the uncertainty around that estimate using error bars. Bar plots include 0 in the quantitative axis range, and they are a good choice when 0 is a meaningful value for the quantitative variable, and you want to make comparisons against it."
   ]
  },
  {
   "cell_type": "code",
   "execution_count": null,
   "metadata": {},
   "outputs": [],
   "source": []
  },
  {
   "cell_type": "code",
   "execution_count": null,
   "metadata": {},
   "outputs": [],
   "source": []
  }
 ],
 "metadata": {
  "kernelspec": {
   "display_name": "Python 3",
   "language": "python",
   "name": "python3"
  },
  "language_info": {
   "codemirror_mode": {
    "name": "ipython",
    "version": 3
   },
   "file_extension": ".py",
   "mimetype": "text/x-python",
   "name": "python",
   "nbconvert_exporter": "python",
   "pygments_lexer": "ipython3",
   "version": "3.7.6"
  }
 },
 "nbformat": 4,
 "nbformat_minor": 4
}
