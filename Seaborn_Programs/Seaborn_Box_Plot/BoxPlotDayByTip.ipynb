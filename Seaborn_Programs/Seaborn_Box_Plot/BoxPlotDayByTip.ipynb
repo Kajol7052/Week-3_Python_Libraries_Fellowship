{
 "cells": [
  {
   "cell_type": "markdown",
   "metadata": {},
   "source": [
    "###### Program to draw a box plot of day by tips for a dataset"
   ]
  },
  {
   "cell_type": "code",
   "execution_count": 6,
   "metadata": {},
   "outputs": [
    {
     "data": {
      "image/png": "[encoded data removed]",
      "text/plain": [
       "<Figure size 432x288 with 1 Axes>"
      ]
     },
     "metadata": {
      "needs_background": "light"
     },
     "output_type": "display_data"
    }
   ],
   "source": [
    "import pandas as pd\n",
    "import numpy as np\n",
    "import matplotlib.pyplot as plt\n",
    "import seaborn as sns\n",
    "\n",
    "class BoxPlot:\n",
    "    \n",
    "    def box_plot_of_day(self):\n",
    "        \"\"\"\n",
    "        function to draw a box plot of\n",
    "        day by tips for a dataset\n",
    "        \"\"\"\n",
    "        tips_dataset = sns.load_dataset('tips')\n",
    "        sns.boxplot(x='day', y='tip', data=tips_dataset)\n",
    "        \n",
    "if __name__ == \"__main__\" :\n",
    "    SeabornBox = BoxPlot()\n",
    "    SeabornBox.box_plot_of_day()\n",
    "#The box plot is used to display the distribution of the categorical data in the form of quartiles. The center of the box shows the median value. \n",
    "#Boxplot is also used to detect the outlier in the data set."
   ]
  },
  {
   "cell_type": "code",
   "execution_count": null,
   "metadata": {},
   "outputs": [],
   "source": []
  }
 ],
 "metadata": {
  "kernelspec": {
   "display_name": "Python 3",
   "language": "python",
   "name": "python3"
  },
  "language_info": {
   "codemirror_mode": {
    "name": "ipython",
    "version": 3
   },
   "file_extension": ".py",
   "mimetype": "text/x-python",
   "name": "python",
   "nbconvert_exporter": "python",
   "pygments_lexer": "ipython3",
   "version": "3.7.6"
  }
 },
 "nbformat": 4,
 "nbformat_minor": 4
}
